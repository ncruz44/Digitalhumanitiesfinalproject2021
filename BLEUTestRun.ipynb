{
 "cells": [
  {
   "cell_type": "code",
   "execution_count": 4,
   "metadata": {},
   "outputs": [],
   "source": [
    "import  nltk.translate.bleu_score as bleu\n"
   ]
  },
  {
   "cell_type": "code",
   "execution_count": 3,
   "metadata": {},
   "outputs": [],
   "source": [
    "reference_translation=[\"North Korea announced that it would not participate in the Tokyo Olympic Games in July due to COVID-19. The latest announcement practically put a stop to the Moon Jae-in government’s plan to use the upcoming Olympics as an opportunity to resume the process for peace on the Korean Peninsula.\".split()]\n",
    "                       \n",
    "candidate_translation_1=\"North Korea has announced that it will not participate in the Tokyo Olympics, which will open in July due to the prevention of Corona 19. With North Korea's declaration of absence, the Moon Jae-in administration's plan to use the Olympics as an opportunity to resume the “peace process on the Korean Peninsula” was virtually destroyed.\".split()\n",
    "candidate_translation_2=\"North Korea has announced that it will not participate in the Tokyo Olympics, which will open in July, citing the coronavirus outbreak. Moon Jae-in going to use the occasion of the Government's resumption of 'The Korean Peninsula ¬ Peace Process’ these Olympics with a North Korean boycott of what we could actually was.\".split()                     "
   ]
  },
  {
   "cell_type": "code",
   "execution_count": 4,
   "metadata": {},
   "outputs": [
    {
     "name": "stdout",
     "output_type": "stream",
     "text": [
      "BLEU Score:  0.32574420690603273\n"
     ]
    }
   ],
   "source": [
    "print(\"BLEU Score: \",bleu.sentence_bleu(reference_translation, candidate_translation_1))\n"
   ]
  },
  {
   "cell_type": "code",
   "execution_count": 5,
   "metadata": {},
   "outputs": [
    {
     "name": "stdout",
     "output_type": "stream",
     "text": [
      "BLEU Score:  0.1314770573188977\n"
     ]
    }
   ],
   "source": [
    "print(\"BLEU Score: \",bleu.sentence_bleu(reference_translation, candidate_translation_2))\n"
   ]
  },
  {
   "cell_type": "code",
   "execution_count": 3,
   "metadata": {},
   "outputs": [],
   "source": [
    "news_translation=[\"North Korea announced that it would not participate in the Tokyo Olympic Games in July due to COVID-19. The latest announcement practically put a stop to the Moon Jae-in government’s plan to use the upcoming Olympics as an opportunity to resume the process for peace on the Korean Peninsula. According to Sports in the Democratic People’s Republic of Korea--a website run by North Korea’s sports ministry--on April 6, North Korea’s Olympic Committee held a general meeting and decided not to take part in the 32nd Olympic Games in order to protect our athletes from the global health crisis caused by the malicious virus infection. The meeting was held on March 25, which was also the day North Korea launched a ballistic missile. This is the first time that North Korea will skip the Summer Olympics since it took part in the 1988 Seoul Olympics 33 years ago. North Korea closed off its borders and focused on blocking the novel coronavirus since the early days of the COVID-19 outbreak last February. It appears the North, which has a poor medical system, decided to bow out of the Olympics to prevent the virus from entering the country through its athletes. North Korea’s decision to skip the Tokyo Olympics will make it harder for President Moon to find a breakthrough in inter-Korean relations during his remaining term in office. In his speech during a ceremony commemorating the March 1 Independence Movement last month, President Moon said, 'The Tokyo Olympics can be an opportunity for dialogue between South Korea and Japan, between the two Koreas, between North Korea and Japan, and between North Korea and the United States.' An official from the Ministry of Unification said, 'We had hoped the upcoming Olympics to provide an opportunity for progress in peace on the Korean Peninsula and in reconciliation and cooperation between the two Koreas, but we are sorry that things cannot proceed as expected due to COVID-19.' He expressed regrets on the latest decision, which pulled the brakes on the government’s plan to take advantage of the Tokyo Olympics for dialogue on the Korean Peninsula. The announcement also disrupted the Japanese government’s expectations to make the Tokyo Olympics into another successful 'Pyeongchang Olympics.' Last month, when North Korea launched the ballistic missile, Japanese Prime Minister Yoshihide Suga said that if Kim Yo-jong, a vice director of the Workers’ Party of Korea, visited Japan during the Tokyo Olympics, 'If it helps resolve the issue of kidnappings, It is my job to resolve it' and left the door open for dialogue. This is why some experts claim that North Korea’s decision to skip the Olympics was a political decision reflecting the deteriorating relationship between North Korea and Japan. However, some suggest that we should wait and see if the decision to bow out of the Olympics released on the sports ministry website is the final decision by North Korean leader Kim Jong-un. The government observed that the decision was not covered by North Korean state media, such as the Korea Central News Agency, and believed there was a need for further investigation to see if the latest announcement was based on a decision at the highest level. The International Olympic Committee said that it did not receive any official application from the North Korean Olympic Committee about the decision not to take part in the Tokyo Olympics\"]\n",
    "\n",
    "news_translation_naver=\"North Korea has announced it will not participate in the upcoming Tokyo Olympics, which will open in July, citing Covid-19 quarantine. Moon Jae-in going to use the occasion of the Government's resumption of ‘The Korean Peninsula Peace Process’ these Olympics with a North Korean boycott of what we could actually was. North Korea's Olympic Committee decided not to participate in the 32nd Olympic Games to protect athletes from the global health crisis caused by the viral infection, the website of the North's sports ministry said on the 6th. The general meeting was held on the 25th of last month when North Korea fired a ballistic missile. It is the first time in 33 years that North Korea has been absent from the Summer Olympics since the 1988 Seoul Olympics. Since the beginning of the spread of Covid-19 in February last year, North Korea has been making all-out efforts to contain the virus. North Korea, which has a poor medical system, appears to have decided not to attend the event to prevent the virus from entering through athletes participating in the Olympics. It is predicted that it will not be easy to make a breakthrough in inter-Korean relations during President Moon's term due to North Korea's decision not to attend the Tokyo Olympics. In his March 1 Independence Movement speech last month, President Moon also said, The Tokyo Olympics can be an opportunity for dialogue between South Korea and Japan, North Korea and the U.S. An official from the Ministry of Unification said, We hoped this Olympics would serve as an opportunity to advance peace on the Korean Peninsula and reconciliation and cooperation between the two Koreas, but we regret that we could not do so due to the Covid-19 situation. He expressed regret that the government's plan to turn the situation on the Korean Peninsula into a dialogue phase was put on hold in the wake of the Tokyo Olympics. The Japanese government's expectations to make the Tokyo Olympics a second PyeongChang Winter Olympics have also been disrupted. Japanese Prime Minister Yoshihide Suga left open the possibility of dialogue when North Korea launched a ballistic missile last month, saying, If it helps resolve the abduction issue, it is my job to resolve it. Some analysts say that North Korea's absence is a political decision that reflects worsening relations between North Korea and Japan. However, some say that the decision to boycott the Olympics, which was made on the website of the Ministry of Sports, should be seen whether Kim Jong-un's decision was the final decision. The South Korean government reportedly believes that additional analysis is needed on whether the North's announcement was based on the premise of a top-level decision, noting that North Korea's state-run media, including the Korean Central News Agency, did not report its absence from the Olympics. The International Olympic Committee (IOC) said it has not received any official application from the North Korean Olympic Committee for its absence from the Tokyo Olympics.\"\n",
    "news_translation_google=\"North Korea has announced it will not participate in the upcoming Tokyo Olympics, which will open in July, citing Covid-19 quarantine. Moon Jae-in going to use the occasion of the Government's resumption of ‘The Korean Peninsula ­ Peace Process’ these Olympics with a North Korean boycott of what we could actually was. North Korea's Olympic Committee decided not to participate in the 32nd Olympic Games to protect athletes from the global health crisis caused by the viral infection, the website of the North's sports ministry said on the 6th. The general meeting was held on the 25th of last month when North Korea fired a ballistic missile. It is the first time in 33 years that North Korea has been absent from the Summer Olympics since the 1988 Seoul Olympics. Since the beginning of the spread of Covid-19 in February last year, North Korea has been making all-out efforts to contain the virus. North Korea, which has a poor medical system, appears to have decided not to attend the event to prevent the virus from entering through athletes participating in the Olympics. It is predicted that it will not be easy to make a breakthrough in inter-Korean relations during President Moon's term due to North Korea's decision not to attend the Tokyo Olympics. In his March 1 Independence Movement speech last month, President Moon also said, The Tokyo Olympics can be an opportunity for dialogue between South Korea and Japan, North Korea and the U.S. An official from the Ministry of Unification said, We hoped this Olympics would serve as an opportunity to advance peace on the Korean Peninsula and reconciliation and cooperation between the two Koreas, but we regret that we could not do so due to the Covid-19 situation. He expressed regret that the government's plan to turn the situation on the Korean Peninsula into a dialogue phase was put on hold in the wake of the Tokyo Olympics. The Japanese government's expectations to make the Tokyo Olympics a second PyeongChang Winter Olympics have also been disrupted. Japanese Prime Minister Yoshihide Suga left open the possibility of dialogue when North Korea launched a ballistic missile last month, saying, If it helps resolve the abduction issue, it is my job to resolve it. Some analysts say that North Korea's absence is a political decision that reflects worsening relations between North Korea and Japan. However, some say that the decision to boycott the Olympics, which was made on the website of the Ministry of Sports, should be seen whether Kim Jong-un's decision was the final decision. The South Korean government reportedly believes that additional analysis is needed on whether the North's announcement was based on the premise of a top-level decision, noting that North Korea's state-run media, including the Korean Central News Agency, did not report its absence from the Olympics. The International Olympic Committee (IOC) said it has not received any official application from the North Korean Olympic Committee for its absence from the Tokyo Olympics\""
   ]
  },
  {
   "cell_type": "code",
   "execution_count": 5,
   "metadata": {},
   "outputs": [
    {
     "name": "stdout",
     "output_type": "stream",
     "text": [
      "BLEU Score:  0.7509624934953877\n",
      "BLEU Score:  0.7510550929865293\n"
     ]
    }
   ],
   "source": [
    "print(\"BLEU Score: \",bleu.sentence_bleu(news_translation, news_translation_naver))\n",
    "\n",
    "print(\"BLEU Score: \",bleu.sentence_bleu(news_translation, news_translation_google))\n"
   ]
  },
  {
   "cell_type": "code",
   "execution_count": null,
   "metadata": {},
   "outputs": [],
   "source": []
  }
 ],
 "metadata": {
  "kernelspec": {
   "display_name": "Python 3",
   "language": "python",
   "name": "python3"
  },
  "language_info": {
   "codemirror_mode": {
    "name": "ipython",
    "version": 3
   },
   "file_extension": ".py",
   "mimetype": "text/x-python",
   "name": "python",
   "nbconvert_exporter": "python",
   "pygments_lexer": "ipython3",
   "version": "3.8.5"
  }
 },
 "nbformat": 4,
 "nbformat_minor": 4
}
